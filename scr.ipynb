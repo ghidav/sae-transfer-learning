{
 "cells": [
  {
   "cell_type": "code",
   "execution_count": 1,
   "metadata": {},
   "outputs": [
    {
     "name": "stdout",
     "output_type": "stream",
     "text": [
      "\u001b)0\u001b7\u001b[?47h\u001b[1;24r\u001b[m\u001b[4l\u001b[?1h\u001b=Sun Aug 04 23:14:09 2024\n",
      "╒═════════════════════════════════════════════════════════════════════════════╕\n",
      "│ NVITOP 1.3.2       Driver Version: 530.30.02      CUDA Driver Version: 12.1 │\n",
      "├───────────────────────────────┬──────────────────────┬──────────────────────┤\n",
      "│ GPU  Name        Persistence-M│ Bus-Id        Disp.A │ Volatile Uncorr. ECC │\n",
      "│ Fan  Temp  Perf  Pwr:Usage/Cap│         Memory-Usage │ GPU-Util  Compute M. │\n",
      "╞═══════════════════════════════╪══════════════════════╪══════════════════════╡\n",
      "│\u001b[32m   0  GeForce RTX 3090    On   \u001b[0m│\u001b[32m 00000000:65:00.0 Off \u001b[0m│\u001b[32m                  N/A \u001b[0m│\n",
      "│\u001b[32m 46%   51C    P8    19W / 350W \u001b[0m│\u001b[32m   1.00MiB / 24.00GiB \u001b[0m│\u001b[32m      0%      Default \u001b[0m│\n",
      "╘═══════════════════════════════╧══════════════════════╧══════════════════════╛\n",
      "\u001b[1m\u001b[36m[ CPU: ▌ 1.6%          UPTIME: 110.0 days ]\u001b[0m  \u001b[1m( Load Average:  2.04  2.84  3.06 )\u001b[0m\n",
      "\u001b[1m\u001b[35m[ MEM: ██████▍ 21.3%       USED: 51.97GiB ]\u001b[0m  \u001b[1m\u001b[34m[ SWP: ▍ 1.6%                     ]\u001b[0m\n",
      "\n",
      "╒══════════════════════════════════════════════════════════════════════════════╕\n",
      "│ Processes:                                                 \u001b[1m\u001b[33mroot\u001b[0m\u001b[1m@\u001b[0m\u001b[1m\u001b[32m9b98c8ea692a\u001b[0m │\n",
      "│ GPU     PID      USER  GPU-MEM %SM  %CPU  %MEM  TIME  COMMAND                │\n",
      "╞══════════════════════════════════════════════════════════════════════════════╡\n",
      "│  No running processes found                                                  │\n",
      "╘══════════════════════════════════════════════════════════════════════════════╛\n",
      "\u001b[1m\u001b[31mERROR:\u001b[0m Failed to initialize `curses` (curs_set() returned ERR)\n"
     ]
    }
   ],
   "source": [
    "!nvitop"
   ]
  },
  {
   "cell_type": "code",
   "execution_count": 4,
   "metadata": {},
   "outputs": [
    {
     "name": "stdout",
     "output_type": "stream",
     "text": [
      "Loaded pretrained model pythia-160m into HookedTransformer\n"
     ]
    }
   ],
   "source": [
    "from transformer_lens import HookedTransformer\n",
    "\n",
    "model = HookedTransformer.from_pretrained(\"pythia-160m\", device = 'cpu')"
   ]
  },
  {
   "cell_type": "code",
   "execution_count": 28,
   "metadata": {},
   "outputs": [
    {
     "data": {
      "text/plain": [
       "'<|endoftext|> would like to see Harvard hire more \"head coaches of color.\" And there continues to be opposition, including Mills, the alumnus who wrote the CNN op-ed. When asked how he would respond to suggestions that the team has faced undue scrutiny for racial reasons, Mills, who did civil rights work in the 1960s and wrote a book on Mississippi\\'s Freedom Summer, says, \"That seems to me a very understandable charge. Whether the charge also involves an evasion of what happened is another question,\" adding, \"If Harvard is to diversify, it seems to me the real focus on diversity is through its academic programs, not through its athletics programs.\" Yet Amaker and his players have won over a substantial swath of the Harvard community. Seven of its 12 home games this year were sell-outs; students across campus sport Harvard basketball T-shirts, which the team distributes to the student section; and on the team\\'s website are pictures of Harvard basketball players with some of the most prominent leaders on campus and in Boston, including former Pennsylvania Governor Ed Rendell (recently a visiting fellow at Harvard); President Faust; and Michael Dukakis, the 1988 Democratic nominee for president. The once-discouraged practice is now a form of cachet. Amaker insists it is not a response to him or his actions (he describes himself as a \"peon\" of a basketball coach.) But many suggest otherwise, including President Faust, who says Amaker is a \"very special kind of individual\"; and as he continues to receive commitments from star-studded recruits, he appears positioned to contend for conference championships for as long he wants. \"Unless the other Ivy League schools decide they\\'re going to try and change,\" says Jarvis, \"Harvard should remain atop forever.\" Some fear that Amaker may eventually leave for another opportunity and that in particular he could succeed Coach K when he retires at Duke. If he does, he will be missed by students like Emily Rubenstein, a junior from upstate New York. She saw Amaker speak at an event in her dorm and then, along with a few friends, met with him to discuss how to organize the student section. She not only wanted to support her classmates and increase school spirit, but noted, \"You come to Harvard to meet people like Tommy Amaker.\" Earlier this year, Amaker replaced the photo of five black players hanging on the wall in his office with a photo of three Harvard players speaking to the media after last year\\'s NCAA tournament victory. There\\'s Webster, who graduated and is now an assistant coach; Laurent Rivard, a Canadian sharpshooter concentrating in computer science; and Wesley Saunders, who played AAU ball for the Compton Magic and, some say, could be the next Harvard player in the NBA. By the end of this season, Amaker might have a new photo to add; but the image he is ultimate aiming for â\\x80\\x94Â one of where his players end up years from now â\\x80\\x94 will take longer to develop. Standing in his office after defeating Cornell last Friday night, he held a pocket-sized image that gave a good indication of what he\\'s aiming for. It showed Alexander, the alumnus who helped persuade him to come to Harvard, offering advice to another black Harvard alum who knows a thing or two about hoops: President Barack Obama. From Mr. Amaker\\'s perspective, it doesn\\'t get any bigger than that. Producer: Chris Mottram | Editor: Glenn Stout | Copy Editor: Kevin Fixler\\n\\nPhotos: Ian MacLellan and Getty Images | Special Thanks: Josh Laincz Ian MacLellan and Getty Images |<|endoftext|># Copyright (c) 2020 TypeFox GmbH. All rights reserved.\\n# Licensed under the MIT License. See License-MIT.txt in the project root for license information.\\n\\n{{- if .Values.gitpod_selfhosted -}}\\n{{- if .Values.gitpod_selfhosted.variants -}}\\n{{- if .Values.gitpod_selfhosted.variants.customCerts -}}\\napiVersion: v1\\nkind: Secret\\nmetadata:\\n  name: proxy-config-certificates\\n  labels:\\n    app: {{ template \"gitpod.fullname\" $ }}\\n    chart: \"{{ $.Chart.Name }}-{{ $.Chart.Version }}\"\\n    release: \"{{ $.Release.Name }}\"\\n    heritage: \"{{ $.Release.Service }}\"\\n  annotations:\\n    checksum/checksd-config: {{ ($.Files.Get .Values.gitpod.certificatesSecret.path) | sha256sum }}\\ndata:\\n{{ ($.Files.Glob .Values.gitpod.certificatesSecret.path).AsSecrets | nindent 2 }}\\n{{- end -}}\\n{{- end -}}\\n{{- end -}}<|endoftext|>Pres'"
      ]
     },
     "execution_count": 28,
     "metadata": {},
     "output_type": "execute_result"
    }
   ],
   "source": [
    "tokens = [ 0, 651, 751, 281, 923, 17330, 16263, 625, 346, 2522, 19418, 273, 3295, 449, 1244, 627, 7788, 281, 320, 10266, 13, 1690, 28750, 13, 253, 355, 3068, 316, 665, 4159, 253, 16098, 1121, 14, 264, 15, 2091, 2546, 849, 344, 651, 3794, 281, 13991, 326, 253, 2285, 556, 11372, 39284, 24852, 323, 15066, 4606, 13, 28750, 13, 665, 858, 5079, 3570, 789, 275, 253, 11994, 84, 285, 4159, 247, 1984, 327, 18531, 434, 20574, 14538, 13, 2296, 13, 346, 2773, 3133, 281, 479, 247, 1077, 34007, 4179, 15, 12369, 253, 4179, 671, 8687, 271, 612, 4930, 273, 752, 4592, 310, 1529, 1953, 937, 6240, 13, 346, 2042, 17330, 310, 281, 7940, 1419, 13, 352, 3133, 281, 479, 253, 1524, 2770, 327, 9991, 310, 949, 697, 11073, 5659, 13, 417, 949, 697, 11916, 982, 5659, 449, 9110, 3052, 4584, 285, 521, 3773, 452, 1912, 689, 247, 6832, 1863, 506, 273, 253, 17330, 3114, 15, 20400, 273, 697, 1249, 1728, 3958, 436, 807, 497, 5580, 14, 8349, 28, 3484, 2439, 13790, 9678, 17330, 14648, 308, 14, 39529, 13, 534, 253, 2285, 940, 8029, 281, 253, 5974, 2593, 28, 285, 327, 253, 2285, 434, 4422, 403, 7968, 273, 17330, 14648, 3773, 342, 690, 273, 253, 954, 11906, 7038, 327, 13790, 285, 275, 9693, 13, 1690, 3438, 11637, 15636, 3619, 416, 423, 437, 313, 45019, 314, 247, 13975, 7715, 387, 17330, 558, 3918, 15404, 461, 28, 285, 6277, 399, 2788, 30441, 13, 253, 11513, 9922, 28690, 323, 4007, 15, 380, 2378, 14, 12722, 454, 2961, 3946, 310, 1024, 247, 830, 273, 11556, 85, 15, 3052, 4584, 31533, 352, 310, 417, 247, 2380, 281, 779, 390, 521, 5231, 313, 248, 8631, 2994, 347, 247, 346, 365, 251, 3, 273, 247, 14648, 8690, 2698, 1292, 1142, 1804, 5010, 13, 1690, 3918, 15404, 461, 13, 665, 2296, 3052, 4584, 310, 247, 346, 635, 2714, 2238, 273, 2060, 3664, 285, 347, 344, 7788, 281, 4763, 32316, 432, 4177, 14, 14091, 4861, 38136, 13, 344, 4620, 15471, 281, 21244, 323, 8059, 40507, 323, 347, 1048, 344, 5605, 15, 346, 28645, 253, 643, 45397, 6884, 6629, 7617, 597, 1472, 1469, 281, 1611, 285, 1818, 937, 2296, 24064, 4534, 13, 346, 13804, 12299, 943, 3464, 31831, 11654, 449, 3808, 4709, 326, 3052, 4584, 778, 6524, 3553, 323, 1529, 5107, 285, 326, 275, 1798, 344, 812, 9302, 28466, 611, 672, 344, 851, 2731, 387, 14913, 15, 1310, 344, 1057, 13, 344, 588, 320, 9829, 407, 3484, 751, 24504, 11879, 32782, 13, 247, 19394, 432, 598, 3409, 1457, 2816, 15, 1500, 3047, 3052, 4584, 3984, 387, 271, 2362, 275, 617, 23574, 285, 840, 13, 2112, 342, 247, 1643, 3858, 13, 1313, 342, 779, 281, 2319, 849, 281, 23968, 253, 5974, 2593, 15, 1500, 417, 760, 3078, 281, 1329, 617, 47527, 285, 2572, 2143, 5968, 13, 533, 4879, 13, 346, 1394, 1705, 281, 17330, 281, 2525, 952, 751, 27145, 3052, 4584, 449, 36072, 436, 807, 13, 3052, 4584, 7932, 253, 7512, 273, 2620, 2806, 3773, 14203, 327, 253, 3402, 275, 521, 3906, 342, 247, 7512, 273, 1264, 17330, 3773, 8288, 281, 253, 3420, 846, 1390, 807, 434, 26865, 14811, 10170, 15, 1707, 434, 35470, 13, 665, 20981, 285, 310, 1024, 271, 13372, 8690, 28, 47456, 40558, 472, 13, 247, 9462, 17614, 793, 73, 37449, 45012, 275, 4382, 5859, 28, 285, 43921, 10388, 19777, 13, 665, 4546, 329, 16408, 4023, 323, 253, 42928, 21577, 285, 13, 690, 1333, 13, 812, 320, 253, 1735, 17330, 4760, 275, 253, 19305, 15, 2896, 253, 990, 273, 436, 2952, 13, 3052, 4584, 1537, 452, 247, 747, 7512, 281, 823, 28, 533, 253, 2460, 344, 310, 12553, 26400, 323, 25404, 9589, 15802, 7974, 581, 273, 835, 521, 3773, 990, 598, 1107, 432, 1024, 25404, 9589, 15802, 588, 1379, 3356, 281, 1287, 15, 37496, 275, 521, 3906, 846, 38774, 38303, 1390, 6794, 2360, 13, 344, 2918, 247, 11320, 14, 10306, 2460, 326, 3534, 247, 1175, 14011, 273, 752, 344, 434, 26400, 323, 15, 733, 2692, 13651, 13, 253, 355, 3068, 316, 665, 6518, 29720, 779, 281, 1705, 281, 17330, 13, 9159, 7535, 281, 1529, 2806, 17330, 355, 360, 665, 6057, 247, 2181, 390, 767, 670, 8511, 2695, 27, 3918, 22306, 6729, 15, 4325, 2305, 15, 3052, 4584, 434, 8668, 13, 352, 2506, 626, 755, 667, 8750, 685, 326, 15, 1294, 21639, 27, 11007, 9849, 1206, 312, 1040, 17234, 27, 31026, 659, 483, 1040, 27671, 17234, 27, 15273, 22360, 2146, 187, 187, 46570, 27, 23259, 5602, 45, 437, 266, 285, 21902, 13478, 1040, 10396, 9375, 27, 15698, 418, 404, 14617, 23259, 5602, 45, 437, 266, 285, 21902, 13478, 1040, 0, 4, 8283, 313, 68, 10, 9169, 8078, 29969, 38230, 15, 1876, 3570, 10827, 15, 187, 4, 21737, 762, 253, 20695, 4637, 15, 2594, 4637, 14, 38860, 15, 10134, 275, 253, 2199, 5230, 323, 7981, 1491, 15, 187, 187, 6394, 14, 604, 964, 15888, 15, 14769, 29871, 64, 1286, 5465, 264, 428, 599, 187, 6394, 14, 604, 964, 15888, 15, 14769, 29871, 64, 1286, 5465, 264, 15, 20617, 1103, 428, 599, 187, 6394, 14, 604, 964, 15888, 15, 14769, 29871, 64, 1286, 5465, 264, 15, 20617, 1103, 15, 13994, 23940, 84, 428, 599, 187, 6682, 8893, 27, 362, 18, 187, 11258, 27, 7743, 187, 21552, 27, 187, 50276, 1590, 27, 17335, 14, 5397, 14, 15004, 23994, 187, 50276, 31294, 27, 187, 50274, 1212, 27, 12033, 7646, 346, 14769, 29871, 15, 11546, 1590, 3, 370, 12377, 187, 50274, 21341, 27, 346, 6394, 13355, 27994, 15, 2402, 12377, 14, 6394, 13355, 27994, 15, 8893, 12377, 3, 187, 50274, 16690, 27, 346, 6394, 13355, 18992, 15, 2402, 12377, 3, 187, 50274, 379, 13638, 27, 346, 6394, 13355, 18992, 15, 7456, 12377, 3, 187, 50276, 47926, 27, 187, 50274, 43488, 360, 16, 43488, 69, 14, 5397, 27, 12033, 313, 1352, 19284, 15, 3633, 964, 15888, 15, 14769, 29871, 15, 15004, 23994, 29727, 15, 3967, 10, 1040, 48183, 9726, 2204, 12377, 187, 2203, 27, 187, 6394, 313, 1352, 19284, 15, 9030, 706, 964, 15888, 15, 14769, 29871, 15, 15004, 23994, 29727, 15, 3967, 481, 1909, 3251, 39796, 1040, 295, 31808, 374, 12377, 187, 6394, 14, 990, 428, 599, 187, 6394, 14, 990, 428, 599, 187, 6394, 14, 990, 428, 599, 0, 13349 ]\n",
    "model.to_string(tokens)"
   ]
  },
  {
   "cell_type": "code",
   "execution_count": 24,
   "metadata": {},
   "outputs": [
    {
     "name": "stdout",
     "output_type": "stream",
     "text": [
      "True\n"
     ]
    }
   ],
   "source": [
    "import torch\n",
    "print(torch.cuda.is_available())"
   ]
  },
  {
   "cell_type": "code",
   "execution_count": 5,
   "metadata": {},
   "outputs": [],
   "source": [
    "import torch\n",
    "tokens = model.to_tokens(\"Hello, my name is\")\n",
    "\n",
    "with torch.no_grad():\n",
    "    _, cache = model.run_with_cache(tokens)"
   ]
  },
  {
   "cell_type": "code",
   "execution_count": 6,
   "metadata": {},
   "outputs": [
    {
     "data": {
      "text/plain": [
       "ActivationCache with keys ['hook_embed', 'blocks.0.hook_resid_pre', 'blocks.0.ln1.hook_scale', 'blocks.0.ln1.hook_normalized', 'blocks.0.attn.hook_q', 'blocks.0.attn.hook_k', 'blocks.0.attn.hook_v', 'blocks.0.attn.hook_rot_q', 'blocks.0.attn.hook_rot_k', 'blocks.0.attn.hook_attn_scores', 'blocks.0.attn.hook_pattern', 'blocks.0.attn.hook_z', 'blocks.0.hook_attn_out', 'blocks.0.ln2.hook_scale', 'blocks.0.ln2.hook_normalized', 'blocks.0.mlp.hook_pre', 'blocks.0.mlp.hook_post', 'blocks.0.hook_mlp_out', 'blocks.0.hook_resid_post', 'blocks.1.hook_resid_pre', 'blocks.1.ln1.hook_scale', 'blocks.1.ln1.hook_normalized', 'blocks.1.attn.hook_q', 'blocks.1.attn.hook_k', 'blocks.1.attn.hook_v', 'blocks.1.attn.hook_rot_q', 'blocks.1.attn.hook_rot_k', 'blocks.1.attn.hook_attn_scores', 'blocks.1.attn.hook_pattern', 'blocks.1.attn.hook_z', 'blocks.1.hook_attn_out', 'blocks.1.ln2.hook_scale', 'blocks.1.ln2.hook_normalized', 'blocks.1.mlp.hook_pre', 'blocks.1.mlp.hook_post', 'blocks.1.hook_mlp_out', 'blocks.1.hook_resid_post', 'blocks.2.hook_resid_pre', 'blocks.2.ln1.hook_scale', 'blocks.2.ln1.hook_normalized', 'blocks.2.attn.hook_q', 'blocks.2.attn.hook_k', 'blocks.2.attn.hook_v', 'blocks.2.attn.hook_rot_q', 'blocks.2.attn.hook_rot_k', 'blocks.2.attn.hook_attn_scores', 'blocks.2.attn.hook_pattern', 'blocks.2.attn.hook_z', 'blocks.2.hook_attn_out', 'blocks.2.ln2.hook_scale', 'blocks.2.ln2.hook_normalized', 'blocks.2.mlp.hook_pre', 'blocks.2.mlp.hook_post', 'blocks.2.hook_mlp_out', 'blocks.2.hook_resid_post', 'blocks.3.hook_resid_pre', 'blocks.3.ln1.hook_scale', 'blocks.3.ln1.hook_normalized', 'blocks.3.attn.hook_q', 'blocks.3.attn.hook_k', 'blocks.3.attn.hook_v', 'blocks.3.attn.hook_rot_q', 'blocks.3.attn.hook_rot_k', 'blocks.3.attn.hook_attn_scores', 'blocks.3.attn.hook_pattern', 'blocks.3.attn.hook_z', 'blocks.3.hook_attn_out', 'blocks.3.ln2.hook_scale', 'blocks.3.ln2.hook_normalized', 'blocks.3.mlp.hook_pre', 'blocks.3.mlp.hook_post', 'blocks.3.hook_mlp_out', 'blocks.3.hook_resid_post', 'blocks.4.hook_resid_pre', 'blocks.4.ln1.hook_scale', 'blocks.4.ln1.hook_normalized', 'blocks.4.attn.hook_q', 'blocks.4.attn.hook_k', 'blocks.4.attn.hook_v', 'blocks.4.attn.hook_rot_q', 'blocks.4.attn.hook_rot_k', 'blocks.4.attn.hook_attn_scores', 'blocks.4.attn.hook_pattern', 'blocks.4.attn.hook_z', 'blocks.4.hook_attn_out', 'blocks.4.ln2.hook_scale', 'blocks.4.ln2.hook_normalized', 'blocks.4.mlp.hook_pre', 'blocks.4.mlp.hook_post', 'blocks.4.hook_mlp_out', 'blocks.4.hook_resid_post', 'blocks.5.hook_resid_pre', 'blocks.5.ln1.hook_scale', 'blocks.5.ln1.hook_normalized', 'blocks.5.attn.hook_q', 'blocks.5.attn.hook_k', 'blocks.5.attn.hook_v', 'blocks.5.attn.hook_rot_q', 'blocks.5.attn.hook_rot_k', 'blocks.5.attn.hook_attn_scores', 'blocks.5.attn.hook_pattern', 'blocks.5.attn.hook_z', 'blocks.5.hook_attn_out', 'blocks.5.ln2.hook_scale', 'blocks.5.ln2.hook_normalized', 'blocks.5.mlp.hook_pre', 'blocks.5.mlp.hook_post', 'blocks.5.hook_mlp_out', 'blocks.5.hook_resid_post', 'blocks.6.hook_resid_pre', 'blocks.6.ln1.hook_scale', 'blocks.6.ln1.hook_normalized', 'blocks.6.attn.hook_q', 'blocks.6.attn.hook_k', 'blocks.6.attn.hook_v', 'blocks.6.attn.hook_rot_q', 'blocks.6.attn.hook_rot_k', 'blocks.6.attn.hook_attn_scores', 'blocks.6.attn.hook_pattern', 'blocks.6.attn.hook_z', 'blocks.6.hook_attn_out', 'blocks.6.ln2.hook_scale', 'blocks.6.ln2.hook_normalized', 'blocks.6.mlp.hook_pre', 'blocks.6.mlp.hook_post', 'blocks.6.hook_mlp_out', 'blocks.6.hook_resid_post', 'blocks.7.hook_resid_pre', 'blocks.7.ln1.hook_scale', 'blocks.7.ln1.hook_normalized', 'blocks.7.attn.hook_q', 'blocks.7.attn.hook_k', 'blocks.7.attn.hook_v', 'blocks.7.attn.hook_rot_q', 'blocks.7.attn.hook_rot_k', 'blocks.7.attn.hook_attn_scores', 'blocks.7.attn.hook_pattern', 'blocks.7.attn.hook_z', 'blocks.7.hook_attn_out', 'blocks.7.ln2.hook_scale', 'blocks.7.ln2.hook_normalized', 'blocks.7.mlp.hook_pre', 'blocks.7.mlp.hook_post', 'blocks.7.hook_mlp_out', 'blocks.7.hook_resid_post', 'blocks.8.hook_resid_pre', 'blocks.8.ln1.hook_scale', 'blocks.8.ln1.hook_normalized', 'blocks.8.attn.hook_q', 'blocks.8.attn.hook_k', 'blocks.8.attn.hook_v', 'blocks.8.attn.hook_rot_q', 'blocks.8.attn.hook_rot_k', 'blocks.8.attn.hook_attn_scores', 'blocks.8.attn.hook_pattern', 'blocks.8.attn.hook_z', 'blocks.8.hook_attn_out', 'blocks.8.ln2.hook_scale', 'blocks.8.ln2.hook_normalized', 'blocks.8.mlp.hook_pre', 'blocks.8.mlp.hook_post', 'blocks.8.hook_mlp_out', 'blocks.8.hook_resid_post', 'blocks.9.hook_resid_pre', 'blocks.9.ln1.hook_scale', 'blocks.9.ln1.hook_normalized', 'blocks.9.attn.hook_q', 'blocks.9.attn.hook_k', 'blocks.9.attn.hook_v', 'blocks.9.attn.hook_rot_q', 'blocks.9.attn.hook_rot_k', 'blocks.9.attn.hook_attn_scores', 'blocks.9.attn.hook_pattern', 'blocks.9.attn.hook_z', 'blocks.9.hook_attn_out', 'blocks.9.ln2.hook_scale', 'blocks.9.ln2.hook_normalized', 'blocks.9.mlp.hook_pre', 'blocks.9.mlp.hook_post', 'blocks.9.hook_mlp_out', 'blocks.9.hook_resid_post', 'blocks.10.hook_resid_pre', 'blocks.10.ln1.hook_scale', 'blocks.10.ln1.hook_normalized', 'blocks.10.attn.hook_q', 'blocks.10.attn.hook_k', 'blocks.10.attn.hook_v', 'blocks.10.attn.hook_rot_q', 'blocks.10.attn.hook_rot_k', 'blocks.10.attn.hook_attn_scores', 'blocks.10.attn.hook_pattern', 'blocks.10.attn.hook_z', 'blocks.10.hook_attn_out', 'blocks.10.ln2.hook_scale', 'blocks.10.ln2.hook_normalized', 'blocks.10.mlp.hook_pre', 'blocks.10.mlp.hook_post', 'blocks.10.hook_mlp_out', 'blocks.10.hook_resid_post', 'blocks.11.hook_resid_pre', 'blocks.11.ln1.hook_scale', 'blocks.11.ln1.hook_normalized', 'blocks.11.attn.hook_q', 'blocks.11.attn.hook_k', 'blocks.11.attn.hook_v', 'blocks.11.attn.hook_rot_q', 'blocks.11.attn.hook_rot_k', 'blocks.11.attn.hook_attn_scores', 'blocks.11.attn.hook_pattern', 'blocks.11.attn.hook_z', 'blocks.11.hook_attn_out', 'blocks.11.ln2.hook_scale', 'blocks.11.ln2.hook_normalized', 'blocks.11.mlp.hook_pre', 'blocks.11.mlp.hook_post', 'blocks.11.hook_mlp_out', 'blocks.11.hook_resid_post', 'ln_final.hook_scale', 'ln_final.hook_normalized']"
      ]
     },
     "execution_count": 6,
     "metadata": {},
     "output_type": "execute_result"
    }
   ],
   "source": [
    "cache"
   ]
  },
  {
   "cell_type": "code",
   "execution_count": 18,
   "metadata": {},
   "outputs": [
    {
     "data": {
      "text/plain": [
       "'blocks.3.hook_mlp_out'"
      ]
     },
     "execution_count": 18,
     "metadata": {},
     "output_type": "execute_result"
    }
   ],
   "source": [
    "from transformer_lens import utils\n",
    "\n",
    "utils.get_act_name('blocks.3.hook_mlp_out')"
   ]
  },
  {
   "cell_type": "code",
   "execution_count": 2,
   "metadata": {},
   "outputs": [],
   "source": [
    "from circuit import IOICircuit\n",
    "import json\n",
    "\n",
    "with open('tasks/ioi/cfg.json') as f:\n",
    "    cfg = json.load(f)\n",
    "\n",
    "with open('tasks/ioi/names.json') as f:\n",
    "    names = json.load(f)\n",
    "\n",
    "with open('tasks/ioi/prompts.json') as f:\n",
    "    prompts = json.load(f)\n",
    "\n",
    "circuit = IOICircuit(\n",
    "    model= model,\n",
    "    cfg=cfg, \n",
    "    names=names, \n",
    "    prompts=prompts)"
   ]
  },
  {
   "cell_type": "code",
   "execution_count": 3,
   "metadata": {},
   "outputs": [
    {
     "data": {
      "text/plain": [
       "('Then, Bella and John had lots of fun at the clinic. John gave a pillow to',\n",
       " {'IO': ' Bella',\n",
       "  'POS': 'ABB',\n",
       "  'END': 18,\n",
       "  'IO_pos': 3,\n",
       "  'S1_pos': 5,\n",
       "  'S2_pos': 14,\n",
       "  'S': ' John'})"
      ]
     },
     "execution_count": 3,
     "metadata": {},
     "output_type": "execute_result"
    }
   ],
   "source": [
    "p = circuit.prompts[0]\n",
    "p.text, p.variables"
   ]
  },
  {
   "cell_type": "code",
   "execution_count": 4,
   "metadata": {},
   "outputs": [
    {
     "data": {
      "text/plain": [
       "'Then, John and Bella had lots of fun at the clinic. John gave a pillow to'"
      ]
     },
     "execution_count": 4,
     "metadata": {},
     "output_type": "execute_result"
    }
   ],
   "source": [
    "p.generate_corrupted('POS', model).text"
   ]
  },
  {
   "cell_type": "code",
   "execution_count": 5,
   "metadata": {},
   "outputs": [
    {
     "data": {
      "text/html": [
       "<div>\n",
       "<style scoped>\n",
       "    .dataframe tbody tr th:only-of-type {\n",
       "        vertical-align: middle;\n",
       "    }\n",
       "\n",
       "    .dataframe tbody tr th {\n",
       "        vertical-align: top;\n",
       "    }\n",
       "\n",
       "    .dataframe thead th {\n",
       "        text-align: right;\n",
       "    }\n",
       "</style>\n",
       "<table border=\"1\" class=\"dataframe\">\n",
       "  <thead>\n",
       "    <tr style=\"text-align: right;\">\n",
       "      <th></th>\n",
       "      <th>prompt</th>\n",
       "      <th>IO</th>\n",
       "      <th>S</th>\n",
       "      <th>POS</th>\n",
       "      <th>IO_pos</th>\n",
       "      <th>S1_pos</th>\n",
       "      <th>S1+1_pos</th>\n",
       "      <th>S2_pos</th>\n",
       "      <th>END</th>\n",
       "    </tr>\n",
       "  </thead>\n",
       "  <tbody>\n",
       "    <tr>\n",
       "      <th>0</th>\n",
       "      <td>Then, Bella and John had lots of fun at the cl...</td>\n",
       "      <td>Bella</td>\n",
       "      <td>John</td>\n",
       "      <td>ABB</td>\n",
       "      <td>3</td>\n",
       "      <td>5</td>\n",
       "      <td>6</td>\n",
       "      <td>14</td>\n",
       "      <td>18</td>\n",
       "    </tr>\n",
       "    <tr>\n",
       "      <th>1</th>\n",
       "      <td>Then, Ross and Adrian were working at the jers...</td>\n",
       "      <td>Ross</td>\n",
       "      <td>Adrian</td>\n",
       "      <td>ABB</td>\n",
       "      <td>3</td>\n",
       "      <td>5</td>\n",
       "      <td>6</td>\n",
       "      <td>12</td>\n",
       "      <td>18</td>\n",
       "    </tr>\n",
       "    <tr>\n",
       "      <th>2</th>\n",
       "      <td>Then, Paul and Carl had lots of fun at the man...</td>\n",
       "      <td>Paul</td>\n",
       "      <td>Carl</td>\n",
       "      <td>ABB</td>\n",
       "      <td>3</td>\n",
       "      <td>5</td>\n",
       "      <td>6</td>\n",
       "      <td>14</td>\n",
       "      <td>18</td>\n",
       "    </tr>\n",
       "    <tr>\n",
       "      <th>3</th>\n",
       "      <td>Then, Olivia and Ray had lots of fun at the ra...</td>\n",
       "      <td>Olivia</td>\n",
       "      <td>Ray</td>\n",
       "      <td>ABB</td>\n",
       "      <td>3</td>\n",
       "      <td>5</td>\n",
       "      <td>6</td>\n",
       "      <td>14</td>\n",
       "      <td>18</td>\n",
       "    </tr>\n",
       "    <tr>\n",
       "      <th>4</th>\n",
       "      <td>Then, Christopher and Noah were working at the...</td>\n",
       "      <td>Christopher</td>\n",
       "      <td>Noah</td>\n",
       "      <td>ABB</td>\n",
       "      <td>3</td>\n",
       "      <td>5</td>\n",
       "      <td>6</td>\n",
       "      <td>12</td>\n",
       "      <td>18</td>\n",
       "    </tr>\n",
       "  </tbody>\n",
       "</table>\n",
       "</div>"
      ],
      "text/plain": [
       "                                              prompt            IO        S  \\\n",
       "0  Then, Bella and John had lots of fun at the cl...         Bella     John   \n",
       "1  Then, Ross and Adrian were working at the jers...          Ross   Adrian   \n",
       "2  Then, Paul and Carl had lots of fun at the man...          Paul     Carl   \n",
       "3  Then, Olivia and Ray had lots of fun at the ra...        Olivia      Ray   \n",
       "4  Then, Christopher and Noah were working at the...   Christopher     Noah   \n",
       "\n",
       "   POS  IO_pos  S1_pos  S1+1_pos  S2_pos  END  \n",
       "0  ABB       3       5         6      14   18  \n",
       "1  ABB       3       5         6      12   18  \n",
       "2  ABB       3       5         6      14   18  \n",
       "3  ABB       3       5         6      14   18  \n",
       "4  ABB       3       5         6      12   18  "
      ]
     },
     "execution_count": 5,
     "metadata": {},
     "output_type": "execute_result"
    }
   ],
   "source": [
    "circuit.create_task_df()\n",
    "circuit.task_df.head()"
   ]
  },
  {
   "cell_type": "code",
   "execution_count": 6,
   "metadata": {},
   "outputs": [
    {
     "name": "stderr",
     "output_type": "stream",
     "text": [
      "100%|██████████| 157/157 [00:15<00:00, 10.08it/s]\n"
     ]
    }
   ],
   "source": [
    "circuit.get_activations(128)"
   ]
  },
  {
   "cell_type": "code",
   "execution_count": 7,
   "metadata": {},
   "outputs": [
    {
     "name": "stderr",
     "output_type": "stream",
     "text": [
      "100%|██████████| 216/216 [00:19<00:00, 11.07it/s]\n"
     ]
    }
   ],
   "source": [
    "circuit.compute_supervised_dictionary()"
   ]
  },
  {
   "cell_type": "code",
   "execution_count": 9,
   "metadata": {},
   "outputs": [
    {
     "data": {
      "text/plain": [
       "torch.Size([12, 12, 64])"
      ]
     },
     "execution_count": 9,
     "metadata": {},
     "output_type": "execute_result"
    }
   ],
   "source": [
    "circuit.IO_features[' Adam']['k']['IO'].shape"
   ]
  },
  {
   "cell_type": "code",
   "execution_count": 5,
   "metadata": {},
   "outputs": [
    {
     "name": "stderr",
     "output_type": "stream",
     "text": [
      "100%|██████████| 313/313 [00:18<00:00, 16.56it/s]\n"
     ]
    }
   ],
   "source": [
    "import torch\n",
    "from tqdm import tqdm\n",
    "\n",
    "bs = 64\n",
    "\n",
    "activations = {i: [] for i in ['q', 'k', 'v', 'z']}\n",
    "for b in tqdm(range(0, len(task_df), bs)):\n",
    "    tokens = model.to_tokens(task_df.iloc[b:b+bs, 0])\n",
    "\n",
    "    positions = task_df.iloc[b:b+bs][['IO_pos', 'S1_pos', 'S1+1_pos', 'S2_pos', 'END']].values\n",
    "    \n",
    "    with torch.no_grad():\n",
    "        _, cache = model.run_with_cache(tokens)\n",
    "\n",
    "    for key in activations.keys():\n",
    "        key_acts = cache.stack_activation(key) # [l b pos h dm]\n",
    "        activations[key].append(torch.cat([key_acts[:, None, i, pos] for i, pos in enumerate(positions)], dim=1))\n",
    "\n",
    "    del cache\n",
    "\n",
    "activations = {key: torch.cat(values, 1).cpu() for key, values in activations.items()} # [l N 5 h dm]\n",
    "mean_activations = {key: torch.mean(values, 1).cpu() for key, values in activations.items()} # [l 5 h dm]"
   ]
  },
  {
   "cell_type": "code",
   "execution_count": 31,
   "metadata": {},
   "outputs": [],
   "source": [
    "def supervised_dictionary(df, activations):\n",
    "    \n",
    "    io_vec = {}\n",
    "    s_vec = {}\n",
    "\n",
    "    attributes = ['IO', 'S1', 'S1+1', 'S2', 'END']\n",
    "\n",
    "    unique_io = df['IO'].unique()\n",
    "    unique_s1 = df['S1'].unique()\n",
    "\n",
    "    centered_activations = {c: activations[c] - activations[c].mean(1)[:, None] for c in ['q', 'k', 'v', 'z']}\n",
    "\n",
    "    for name in tqdm(set(unique_io) | set(unique_s1)):\n",
    "        io_vec[name] = {}\n",
    "        s_vec[name] = {}\n",
    "\n",
    "        for c in ['q', 'k', 'v', 'z']:\n",
    "            mask = torch.tensor(df['IO'] == name, dtype=torch.bool, device=activations[c].device)\n",
    "            if mask.any():\n",
    "                filtered_activations = centered_activations[c][:, mask] # [l M 5 h dm]\n",
    "                io_vec[name][c] = {a: filtered_activations[:, :, i].mean(1) for i, a in enumerate(attributes)}\n",
    "\n",
    "            mask = torch.tensor(df['S1'] == name, dtype=torch.bool, device=activations[c].device)\n",
    "            if mask.any():\n",
    "                filtered_activations = centered_activations[c][:, mask]\n",
    "                s_vec[name][c] = {a: filtered_activations[:, :, i].mean(1) for i, a in enumerate(attributes)}\n",
    "\n",
    "    # Pos\n",
    "    pos_vec = {'ABB': {}, 'BAB': {}}\n",
    "    \n",
    "    for c in ['q', 'k', 'v', 'z']:\n",
    "        for pos in [0, 1]:\n",
    "            mask = torch.tensor(df['POS'] == pos, dtype=torch.bool, device=activations[c].device)\n",
    "            if mask.any():\n",
    "                filtered_activations = centered_activations[c][:, mask]\n",
    "                pos_vec['ABB' if pos == 0 else 'BAB'][c] = {a: filtered_activations[:, :, i].mean(1) for i, a in enumerate(attributes)}\n",
    "    \n",
    "    return (io_vec, s_vec, pos_vec)"
   ]
  },
  {
   "cell_type": "code",
   "execution_count": 32,
   "metadata": {},
   "outputs": [
    {
     "name": "stderr",
     "output_type": "stream",
     "text": [
      "100%|██████████| 216/216 [00:19<00:00, 11.27it/s]\n"
     ]
    }
   ],
   "source": [
    "f = supervised_dictionary(task_df, activations)"
   ]
  },
  {
   "cell_type": "code",
   "execution_count": 33,
   "metadata": {},
   "outputs": [
    {
     "data": {
      "text/plain": [
       "torch.Size([12, 12, 64])"
      ]
     },
     "execution_count": 33,
     "metadata": {},
     "output_type": "execute_result"
    }
   ],
   "source": [
    "f[0][' Richard']['q']['IO'].shape"
   ]
  },
  {
   "cell_type": "code",
   "execution_count": 3,
   "metadata": {},
   "outputs": [
    {
     "ename": "TypeError",
     "evalue": "IOIPrompt.__init__() missing 1 required positional argument: 'model'",
     "output_type": "error",
     "traceback": [
      "\u001b[0;31m---------------------------------------------------------------------------\u001b[0m",
      "\u001b[0;31mTypeError\u001b[0m                                 Traceback (most recent call last)",
      "Cell \u001b[0;32mIn[3], line 1\u001b[0m\n\u001b[0;32m----> 1\u001b[0m circuit\u001b[38;5;241m.\u001b[39mprompts[\u001b[38;5;241m0\u001b[39m]\u001b[38;5;241m.\u001b[39mtext, \u001b[43mcircuit\u001b[49m\u001b[38;5;241;43m.\u001b[39;49m\u001b[43mprompts\u001b[49m\u001b[43m[\u001b[49m\u001b[38;5;241;43m0\u001b[39;49m\u001b[43m]\u001b[49m\u001b[38;5;241;43m.\u001b[39;49m\u001b[43mgenerate_corrupted\u001b[49m\u001b[43m(\u001b[49m\u001b[38;5;124;43m'\u001b[39;49m\u001b[38;5;124;43mPOS\u001b[39;49m\u001b[38;5;124;43m'\u001b[39;49m\u001b[43m)\u001b[49m\u001b[38;5;241m.\u001b[39mget_variable(\u001b[38;5;124m'\u001b[39m\u001b[38;5;124mS\u001b[39m\u001b[38;5;124m'\u001b[39m)\n",
      "File \u001b[0;32m/workspace/sae-transfer-learning/circuit.py:61\u001b[0m, in \u001b[0;36mIOIPrompt.generate_corrupted\u001b[0;34m(self, attribute)\u001b[0m\n\u001b[1;32m     59\u001b[0m corr_prompt[\u001b[38;5;124m'\u001b[39m\u001b[38;5;124mvariables\u001b[39m\u001b[38;5;124m'\u001b[39m][\u001b[38;5;124m'\u001b[39m\u001b[38;5;124mIO_pos\u001b[39m\u001b[38;5;124m'\u001b[39m] \u001b[38;5;241m=\u001b[39m s1_pos\n\u001b[1;32m     60\u001b[0m corr_prompt[\u001b[38;5;124m'\u001b[39m\u001b[38;5;124mvariables\u001b[39m\u001b[38;5;124m'\u001b[39m][\u001b[38;5;124m'\u001b[39m\u001b[38;5;124mS1_pos\u001b[39m\u001b[38;5;124m'\u001b[39m] \u001b[38;5;241m=\u001b[39m io_pos\n\u001b[0;32m---> 61\u001b[0m \u001b[38;5;28;01mreturn\u001b[39;00m  \u001b[43mIOIPrompt\u001b[49m\u001b[43m(\u001b[49m\u001b[43mcorr_prompt\u001b[49m\u001b[43m)\u001b[49m\n",
      "\u001b[0;31mTypeError\u001b[0m: IOIPrompt.__init__() missing 1 required positional argument: 'model'"
     ]
    }
   ],
   "source": [
    "circuit.prompts[0].text, circuit.prompts[0].generate_corrupted('POS').get_variable('S')"
   ]
  },
  {
   "cell_type": "code",
   "execution_count": null,
   "metadata": {},
   "outputs": [],
   "source": []
  },
  {
   "cell_type": "code",
   "execution_count": 14,
   "metadata": {},
   "outputs": [
    {
     "name": "stdout",
     "output_type": "stream",
     "text": [
      "{'prompt': 'Then, Bella and John had lots of fun at the clinic. John gave a pillow to', 'variables': {'IO': ' Bella', 'POS': 'ABB', 'END': 18, 'IO_pos': 3, 'S1_pos': 5, 'S2_pos': 14, 'S': ' John'}}\n"
     ]
    },
    {
     "ename": "KeyError",
     "evalue": "'S1'",
     "output_type": "error",
     "traceback": [
      "\u001b[0;31m---------------------------------------------------------------------------\u001b[0m",
      "\u001b[0;31mKeyError\u001b[0m                                  Traceback (most recent call last)",
      "Cell \u001b[0;32mIn[14], line 3\u001b[0m\n\u001b[1;32m      1\u001b[0m \u001b[38;5;28;01mfor\u001b[39;00m p \u001b[38;5;129;01min\u001b[39;00m prompts:\n\u001b[1;32m      2\u001b[0m     \u001b[38;5;28mprint\u001b[39m(p)\n\u001b[0;32m----> 3\u001b[0m     p[\u001b[38;5;124m'\u001b[39m\u001b[38;5;124mvariables\u001b[39m\u001b[38;5;124m'\u001b[39m][\u001b[38;5;124m'\u001b[39m\u001b[38;5;124mS1+1\u001b[39m\u001b[38;5;124m'\u001b[39m] \u001b[38;5;241m=\u001b[39m \u001b[43mp\u001b[49m\u001b[43m[\u001b[49m\u001b[38;5;124;43m'\u001b[39;49m\u001b[38;5;124;43mvariables\u001b[39;49m\u001b[38;5;124;43m'\u001b[39;49m\u001b[43m]\u001b[49m\u001b[43m[\u001b[49m\u001b[38;5;124;43m'\u001b[39;49m\u001b[38;5;124;43mS1\u001b[39;49m\u001b[38;5;124;43m'\u001b[39;49m\u001b[43m]\u001b[49m \u001b[38;5;241m+\u001b[39m \u001b[38;5;241m1\u001b[39m\n",
      "\u001b[0;31mKeyError\u001b[0m: 'S1'"
     ]
    }
   ],
   "source": [
    "for p in prompts:\n",
    "    print(p)\n",
    "    p['variables']['S1+1'] = p['variables']['S1_pos'] + 1"
   ]
  },
  {
   "cell_type": "code",
   "execution_count": 17,
   "metadata": {},
   "outputs": [
    {
     "name": "stdout",
     "output_type": "stream",
     "text": [
      "Fri Jun 28 16:24:21 2024       \n",
      "+---------------------------------------------------------------------------------------+\n",
      "| NVIDIA-SMI 535.154.05             Driver Version: 535.154.05   CUDA Version: 12.2     |\n",
      "|-----------------------------------------+----------------------+----------------------+\n",
      "| GPU  Name                 Persistence-M | Bus-Id        Disp.A | Volatile Uncorr. ECC |\n",
      "| Fan  Temp   Perf          Pwr:Usage/Cap |         Memory-Usage | GPU-Util  Compute M. |\n",
      "|                                         |                      |               MIG M. |\n",
      "|=========================================+======================+======================|\n",
      "|   0  NVIDIA RTX A6000               On  | 00000000:00:07.0 Off |                  Off |\n",
      "| 30%   50C    P2              87W / 300W |  26212MiB / 49140MiB |     15%      Default |\n",
      "|                                         |                      |                  N/A |\n",
      "+-----------------------------------------+----------------------+----------------------+\n",
      "                                                                                         \n",
      "+---------------------------------------------------------------------------------------+\n",
      "| Processes:                                                                            |\n",
      "|  GPU   GI   CI        PID   Type   Process name                            GPU Memory |\n",
      "|        ID   ID                                                             Usage      |\n",
      "|=======================================================================================|\n",
      "+---------------------------------------------------------------------------------------+\n"
     ]
    }
   ],
   "source": [
    "!nvidia-smi"
   ]
  },
  {
   "cell_type": "code",
   "execution_count": null,
   "metadata": {},
   "outputs": [],
   "source": []
  }
 ],
 "metadata": {
  "kernelspec": {
   "display_name": "venv",
   "language": "python",
   "name": "python3"
  },
  "language_info": {
   "codemirror_mode": {
    "name": "ipython",
    "version": 3
   },
   "file_extension": ".py",
   "mimetype": "text/x-python",
   "name": "python",
   "nbconvert_exporter": "python",
   "pygments_lexer": "ipython3",
   "version": "3.10.13"
  }
 },
 "nbformat": 4,
 "nbformat_minor": 2
}
